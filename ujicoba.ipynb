{
 "cells": [
  {
   "cell_type": "code",
   "execution_count": 19,
   "id": "1217adac-ef32-4250-8113-5ee42df88595",
   "metadata": {},
   "outputs": [],
   "source": [
    "import population as p"
   ]
  },
  {
   "cell_type": "code",
   "execution_count": 20,
   "id": "4598fab0-0f41-4449-b04b-94c887431aab",
   "metadata": {},
   "outputs": [
    {
     "data": {
      "text/plain": [
       "308250"
      ]
     },
     "execution_count": 20,
     "metadata": {},
     "output_type": "execute_result"
    }
   ],
   "source": [
    "p.population_growth(300000, 15000, 7000, 500, 250)"
   ]
  },
  {
   "cell_type": "code",
   "execution_count": 21,
   "id": "4fb0428b-bd10-4d44-907a-a5a9e3442442",
   "metadata": {},
   "outputs": [
    {
     "name": "stdout",
     "output_type": "stream",
     "text": [
      "\n",
      "    population_growth(Po, L, M, I, E, method) \n",
      "    \n",
      "    The Po, L, M, I, and E arguments are required. \n",
      "    If the method argument is empty it will run by default \"total\"\n",
      "    \n",
      "    Po : Population in the initial year of calculation\n",
      "    L  : Number of births\n",
      "    M  : Number of deaths\n",
      "    I  : Number of immigration\n",
      "    E  : Number of emigration\n",
      "    \n",
      "    Parameters:\n",
      "    -----------\n",
      "    int    : Po, L, M, I, E\n",
      "    string : method\n",
      "    \n",
      "    Returns:\n",
      "    Total(int)        : result of Po + (L-M) + (I-E)\n",
      "    Persentase(float) : result of (((L-M) + (I-E)) / Po) * (100/100)\n",
      "    \n",
      "    \n"
     ]
    }
   ],
   "source": [
    "print(p.population_growth.__doc__)"
   ]
  },
  {
   "cell_type": "code",
   "execution_count": null,
   "id": "173ab8ea-e3d2-4ed4-8b7d-f7bfc7d69348",
   "metadata": {},
   "outputs": [],
   "source": []
  }
 ],
 "metadata": {
  "kernelspec": {
   "display_name": "Python 3 (ipykernel)",
   "language": "python",
   "name": "python3"
  },
  "language_info": {
   "codemirror_mode": {
    "name": "ipython",
    "version": 3
   },
   "file_extension": ".py",
   "mimetype": "text/x-python",
   "name": "python",
   "nbconvert_exporter": "python",
   "pygments_lexer": "ipython3",
   "version": "3.9.13"
  }
 },
 "nbformat": 4,
 "nbformat_minor": 5
}
